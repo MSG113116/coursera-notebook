{
 "cells": [
  {
   "cell_type": "markdown",
   "id": "2311c652",
   "metadata": {},
   "source": [
    "# Data Science Tools and Ecosysytem"
   ]
  },
  {
   "cell_type": "markdown",
   "id": "f1770de1",
   "metadata": {},
   "source": [
    "## Data Science Tools and Ecosystem are Summarized"
   ]
  },
  {
   "cell_type": "markdown",
   "id": "9b477666",
   "metadata": {},
   "source": [
    "### Some of the popular languages that data Scientists use are:\n",
    "\n",
    "| sl.no | Languages |\n",
    "| ----- | ------ |\n",
    "| 01 | Python |\n",
    "| 02 | Scala |\n",
    "| 03 | R |\n",
    "| 04 | Java |\n",
    "| 05 | C++ |"
   ]
  },
  {
   "cell_type": "markdown",
   "id": "bb692140",
   "metadata": {},
   "source": [
    "#### Some of the commonly used libraries used by Data Scientists include:\n",
    "\n",
    "| sl.no | Libraries |\n",
    "| ----- | ------ |\n",
    "| 01 | NumPy |\n",
    "| 02 | Pandas |\n",
    "| 03 | Scikit-learn |\n",
    "| 04 | matplotlib |"
   ]
  },
  {
   "cell_type": "markdown",
   "id": "ff1b86c9",
   "metadata": {},
   "source": [
    "### Data Science Tools:\n",
    "\n",
    "- PowerBI\n",
    "- Tableau\n",
    "- Aache Hadoop\n",
    "- github"
   ]
  },
  {
   "cell_type": "markdown",
   "id": "3ef13537",
   "metadata": {},
   "source": [
    "### Below are a few examples of evaluating arithmetic expression in Python:"
   ]
  },
  {
   "cell_type": "code",
   "execution_count": 1,
   "id": "848fbaa1",
   "metadata": {},
   "outputs": [
    {
     "data": {
      "text/plain": [
       "19"
      ]
     },
     "execution_count": 1,
     "metadata": {},
     "output_type": "execute_result"
    }
   ],
   "source": [
    "# Examples\n",
    "\n",
    "(3*5)+4  # This is a simple arithmetic expression to multiply and add integers\n"
   ]
  },
  {
   "cell_type": "code",
   "execution_count": 3,
   "id": "edce30f1",
   "metadata": {},
   "outputs": [
    {
     "data": {
      "text/plain": [
       "18.200000000000003"
      ]
     },
     "execution_count": 3,
     "metadata": {},
     "output_type": "execute_result"
    }
   ],
   "source": [
    "# Examples\n",
    "\n",
    "(3/15)*46+9  # this is an arithmetic expression to divide , multiply and add the integers\n"
   ]
  },
  {
   "cell_type": "code",
   "execution_count": 5,
   "id": "b7a0c74d",
   "metadata": {},
   "outputs": [
    {
     "name": "stdout",
     "output_type": "stream",
     "text": [
      "200 200 to 3.3333333333333335 is: 3.3333333333333335\n"
     ]
    }
   ],
   "source": [
    "# This will convert 200 minutes to hours by dividing by 60\n",
    "\n",
    "minutes = 200\n",
    "seconds = 60\n",
    "hours = (minutes / seconds )\n",
    "print(f'200 {minutes} to { hours } is: {hours}' )"
   ]
  },
  {
   "cell_type": "markdown",
   "id": "b80d6bb6",
   "metadata": {},
   "source": [
    "# Some of the Key takeaways from the course:"
   ]
  },
  {
   "cell_type": "markdown",
   "id": "75a1082a",
   "metadata": {},
   "source": [
    "## Objectives:"
   ]
  },
  {
   "cell_type": "markdown",
   "id": "010ba841",
   "metadata": {},
   "source": [
    "- Popular Languages in Data Science\n",
    "- Common Libraries used in Data Science\n",
    "- Basic data science tools\n",
    "- evaluating some arithematic expression in Python"
   ]
  },
  {
   "cell_type": "markdown",
   "id": "3158218f",
   "metadata": {},
   "source": [
    "## Author\n",
    "# Mohammed Suleman Gadiwale"
   ]
  },
  {
   "cell_type": "code",
   "execution_count": null,
   "id": "ccc84b3f",
   "metadata": {},
   "outputs": [],
   "source": []
  }
 ],
 "metadata": {
  "kernelspec": {
   "display_name": "Python 3 (ipykernel)",
   "language": "python",
   "name": "python3"
  },
  "language_info": {
   "codemirror_mode": {
    "name": "ipython",
    "version": 3
   },
   "file_extension": ".py",
   "mimetype": "text/x-python",
   "name": "python",
   "nbconvert_exporter": "python",
   "pygments_lexer": "ipython3",
   "version": "3.10.9"
  }
 },
 "nbformat": 4,
 "nbformat_minor": 5
}
